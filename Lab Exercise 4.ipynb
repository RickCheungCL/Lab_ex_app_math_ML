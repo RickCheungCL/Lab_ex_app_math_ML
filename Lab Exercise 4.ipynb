{
 "cells": [
  {
   "cell_type": "markdown",
   "id": "ccce3051",
   "metadata": {},
   "source": [
    "• college student\n",
    "\n",
    "• airport taxi driver\n",
    "\n",
    "• Toronto art museum\n",
    "\n",
    "• life art\n",
    "\n",
    "• machine learning student\n",
    "\n",
    "                        |college | airpot | Toronto | Life | Machine | Student | Taxi | Driver | Art | Museum | Learning |\n",
    "\n",
    "|college student|         \n",
    "\n",
    "|airpot taxi driver|    \n",
    "\n",
    "|Toronto art museum|      \n",
    "\n",
    "|life art|                \n",
    "\n",
    "|machine learning student|\n",
    "\n",
    "It should be 5 rows and 11 columns\n",
    "\n",
    "\n",
    "\n",
    "#IDF \n",
    "\n",
    "log(5/1) for college \n",
    "\n",
    "AND \n",
    "\n",
    " log(5/2) for art"
   ]
  },
  {
   "cell_type": "code",
   "execution_count": null,
   "id": "81de1f47-af56-4530-a996-66ad10d4fa4c",
   "metadata": {},
   "outputs": [],
   "source": [
    "\n"
   ]
  }
 ],
 "metadata": {
  "kernelspec": {
   "display_name": "Python 3 (ipykernel)",
   "language": "python",
   "name": "python3"
  },
  "language_info": {
   "codemirror_mode": {
    "name": "ipython",
    "version": 3
   },
   "file_extension": ".py",
   "mimetype": "text/x-python",
   "name": "python",
   "nbconvert_exporter": "python",
   "pygments_lexer": "ipython3",
   "version": "3.11.5"
  }
 },
 "nbformat": 4,
 "nbformat_minor": 5
}
