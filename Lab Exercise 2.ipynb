{
 "cells": [
  {
   "cell_type": "markdown",
   "metadata": {},
   "source": [
    "## <p style=\"font-family: Arial; font-size:3em;color:black;\"> Lab Exercise 2 </p>"
   ]
  },
  {
   "cell_type": "code",
   "execution_count": 2,
   "metadata": {},
   "outputs": [
    {
     "data": {
      "image/png": "[encoded data removed]",
      "text/plain": [
       "<Figure size 640x480 with 1 Axes>"
      ]
     },
     "metadata": {},
     "output_type": "display_data"
    }
   ],
   "source": [
    "%matplotlib inline\n",
    "import numpy as np\n",
    "import matplotlib.pyplot as plt\n",
    "\n",
    "# # of hours a AI student spends on their courses in a month\n",
    "np.random.seed(10)\n",
    "no_hours = np.random.normal(40.0, 10.0, 10000)\n",
    "\n",
    "plt.hist(no_hours, 50)\n",
    "plt.show()"
   ]
  },
  {
   "cell_type": "code",
   "execution_count": 4,
   "metadata": {},
   "outputs": [
    {
     "name": "stdout",
     "output_type": "stream",
     "text": [
      "mean: 40.05102056001915 \n",
      "std: 9.896640127716951 \n",
      "var: 97.94348581753738\n"
     ]
    }
   ],
   "source": [
    "# Calculate and report the mean, std, and var of the data shown above.\n",
    "mean = no_hours.mean()\n",
    "std = no_hours.std()\n",
    "var = no_hours.var()\n",
    "print(\"mean:\",mean,\"\\nstd:\",std,\"\\nvar:\",var)\n",
    "\n"
   ]
  },
  {
   "cell_type": "markdown",
   "metadata": {},
   "source": [
    "# What is the theoretical relationship between std and var? Do the numbers reperted in the previous step agree with your expectation?\n",
    "  Variance is the actual value or measure of the spread of distribution (or how far each number is from the mean and from every number in the data set). Standard deviation is a measure of how far apart numbers are in a data set. Standard deviation is also the sqaure root of the variance. "
   ]
  },
  {
   "cell_type": "code",
   "execution_count": 5,
   "metadata": {},
   "outputs": [
    {
     "name": "stdout",
     "output_type": "stream",
     "text": [
      "97.9434858175374\n"
     ]
    }
   ],
   "source": [
    "\n",
    "prove= std * std\n",
    "print(prove) # equal to var"
   ]
  },
  {
   "cell_type": "markdown",
   "metadata": {},
   "source": [
    "**Do the numbers reported in the previous step agree with your expectation?**\n",
    "\n",
    "Yes, the numbers reported agree with the expectation"
   ]
  },
  {
   "cell_type": "markdown",
   "metadata": {},
   "source": [
    "# Begin changing the different parameters on the normal function, discuss your observations as you change each input parameter.\n",
    "  ANS:The X-axis range will be the 2 * std assign . The var and std will be arrange by the mean value"
   ]
  },
  {
   "cell_type": "markdown",
   "metadata": {},
   "source": [
    "<ul>\n",
    "    <li>Altering the mean does not cause a significant change in the variance or standard deviation but does impact the x and y axis along with maximum and minimum values.</li>\n",
    "    <li>When increasing the standard deviation the data points are spread further away from the mean; more data points fall outside 1 standard deviation. When decreasing the standard deviation, the data points are closer to the mean.</li>\n",
    "    <li>Increasing the number of data points bring the mean infinitely closer to the theoratical mean.</li>\n",
    "</ul>"
   ]
  },
  {
   "cell_type": "code",
   "execution_count": null,
   "metadata": {},
   "outputs": [],
   "source": []
  },
  {
   "cell_type": "code",
   "execution_count": null,
   "metadata": {},
   "outputs": [],
   "source": []
  }
 ],
 "metadata": {
  "kernelspec": {
   "display_name": "Python 3 (ipykernel)",
   "language": "python",
   "name": "python3"
  },
  "language_info": {
   "codemirror_mode": {
    "name": "ipython",
    "version": 3
   },
   "file_extension": ".py",
   "mimetype": "text/x-python",
   "name": "python",
   "nbconvert_exporter": "python",
   "pygments_lexer": "ipython3",
   "version": "3.11.5"
  }
 },
 "nbformat": 4,
 "nbformat_minor": 4
}
