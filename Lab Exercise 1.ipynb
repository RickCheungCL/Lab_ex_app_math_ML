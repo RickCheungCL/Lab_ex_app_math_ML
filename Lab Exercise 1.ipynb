{
 "cells": [
  {
   "cell_type": "markdown",
   "metadata": {},
   "source": [
    "<p style=\"font-family: Arial; font-size:3em;color:black;\"> Lab 1 </p>"
   ]
  },
  {
   "cell_type": "markdown",
   "metadata": {},
   "source": [
    "Students name in this Group:"
   ]
  },
  {
   "cell_type": "code",
   "execution_count": 3,
   "metadata": {},
   "outputs": [],
   "source": [
    "# importing numpy\n",
    "import numpy as np"
   ]
  },
  {
   "cell_type": "code",
   "execution_count": 4,
   "metadata": {},
   "outputs": [
    {
     "name": "stdout",
     "output_type": "stream",
     "text": [
      "[1 2 3 5 0]\n",
      "Elements contain zero element.\n",
      "[1 2 3 5]\n"
     ]
    }
   ],
   "source": [
    "# Create a numpy array with the elements \"1, 2, 3, 5, 0\", print the array and test if all of its elements are non-zero.\n",
    "arr = np.array([1,2,3,5,0])\n",
    "print(arr)\n",
    "\n",
    "non_zero = arr.all()\n",
    "\n",
    "\n",
    "if non_zero == False:\n",
    "    print(\"Elements contain zero element.\")\n",
    "else:\n",
    "    print(\"All of the elements are non-zero.\")\n",
    "\n",
    "check=np.nonzero(arr)\n",
    "print(arr[check])\n",
    "\n"
   ]
  },
  {
   "cell_type": "code",
   "execution_count": 13,
   "metadata": {},
   "outputs": [
    {
     "name": "stdout",
     "output_type": "stream",
     "text": [
      "[ 3 -1  3  7  2]\n",
      "At least one of the elements is non-zero.\n"
     ]
    }
   ],
   "source": [
    "# Create a numpy array with the elements \"3, -1, 3, 7, 2\", print the array and test if any of its elements is non-zero.\n",
    "arr2 = np.array([3,-1,3,7,2])\n",
    "print(arr2)\n",
    "\n",
    "non_zero = arr2.any()\n",
    "\n",
    "\n",
    "if non_zero == False:\n",
    "    print(\"Elements contain zero element.\")\n",
    "else:\n",
    "    print(\"At least one of the elements is non-zero.\")\n"
   ]
  },
  {
   "cell_type": "code",
   "execution_count": 14,
   "metadata": {},
   "outputs": [
    {
     "name": "stdout",
     "output_type": "stream",
     "text": [
      "[0 0 0 0]\n",
      "Elements contain zero element.\n",
      "[]\n"
     ]
    }
   ],
   "source": [
    "# Create a numpy array with the elements \"0, 0, 0, 0\", print the array and test if any of its elements is non-zero.\n",
    "arr3 = np.array([0, 0, 0, 0])\n",
    "print(arr3)\n",
    "non_zero = arr3.any()\n",
    "\n",
    "\n",
    "if non_zero == False:\n",
    "    print(\"Elements contain zero element.\")\n",
    "else:\n",
    "    print(\"At least one of the elements is non-zero.\")\n",
    "\n",
    "check3 = np.nonzero(arr3)\n",
    "print(arr3[check3])"
   ]
  },
  {
   "cell_type": "code",
   "execution_count": 7,
   "metadata": {},
   "outputs": [
    {
     "name": "stdout",
     "output_type": "stream",
     "text": [
      "[56 -2  7]\n",
      "the item size: 8\n",
      "size of array: 3\n",
      "The amount of memory required to store is 24 bits.\n"
     ]
    }
   ],
   "source": [
    "# Create a numpy array with the elements \"56, -2, 7\", print the array and the amount of memory required to store it.\n",
    "arr4 = np.array([56, -2, 7])\n",
    "print(arr4)\n",
    "print(\"the item size:\", arr4.itemsize)\n",
    "print(\"size of array:\",arr4.size)\n",
    "print(\"The amount of memory required to store is\",arr4.itemsize*arr4.size,\"bits.\")"
   ]
  },
  {
   "cell_type": "code",
   "execution_count": 8,
   "metadata": {},
   "outputs": [
    {
     "name": "stdout",
     "output_type": "stream",
     "text": [
      "[0. 0. 0. 0. 0. 0. 0. 0. 0. 0.]\n",
      "[1. 1. 1. 1. 1. 1.]\n",
      "[3 3 3 3 3 3 3 3 3 3 3 3]\n"
     ]
    }
   ],
   "source": [
    "# Create a numpy array with 10 zeros and print the array.\n",
    "zero = np.zeros(10)\n",
    "print(zero)\n",
    "# Create a numpy array with 6 ones and print the array.\n",
    "one = np.ones(6)\n",
    "print(one)\n",
    "# Create a numpy array with 12 '3's and print the array. [3 3 3 3 3 3 3 3 3 3 3 3]\n",
    "three =3* np.ones((12),dtype=int)\n",
    "print(three)"
   ]
  },
  {
   "cell_type": "code",
   "execution_count": 9,
   "metadata": {},
   "outputs": [
    {
     "name": "stdout",
     "output_type": "stream",
     "text": [
      "[ 8  9 10 11 12 13 14 15 16 17 18 19 20]\n",
      "[ 8 10 12 14 16 18 20]\n"
     ]
    }
   ],
   "source": [
    "# Create a numpy array of the integers from 8 to 20 and print the array. (make sure 20 itself is included) hint:  use \"arange\" method\n",
    "arr5 = np.arange(8,21)\n",
    "print(arr5)\n",
    "# Create a numpy array of the even integers from 8 to 20 and print the array. (make sure 20 itself is included)   hint:  use \"arange\" method\n",
    "arr6 = np.arange(8,21,2)\n",
    "print(arr6)"
   ]
  },
  {
   "cell_type": "code",
   "execution_count": 12,
   "metadata": {},
   "outputs": [
    {
     "name": "stdout",
     "output_type": "stream",
     "text": [
      "The mean in the array is:  2.0559186124931976\n",
      "The max element in the array is:  3.445047974774611\n",
      "The min element in the array is:  1.0942328395389842\n",
      "The std in the array is:  0.4898102591742426\n",
      "The mean in the array is:  1.988130177119299\n",
      "The max element in the array is:  3.359459223135341\n",
      "The min element in the array is:  0.35186639025417144\n",
      "The std in the array is:  0.481265384048017\n",
      "The mean in the array is:  1.9999940092084492\n",
      "The max element in the array is:  4.4653110507202385\n",
      "The min element in the array is:  -0.4471912972312664\n",
      "The std in the array is:  0.5000251625398875\n"
     ]
    }
   ],
   "source": [
    "# Create a numpy array consisting of 100 random elements from normal distribution with mean of 2 and std of 0.5. Print the mean, max, min and std of the array.\n",
    "randarray = np.random.normal(2, 0.5, 100)\n",
    "print(\"The mean in the array is: \", randarray.mean())\n",
    "print(\"The max element in the array is: \", randarray.max())\n",
    "print(\"The min element in the array is: \", randarray.min())\n",
    "print(\"The std in the array is: \", randarray.std())\n",
    "# Create a numpy array consisting of 1000 random elements from normal distribution with mean of 2 and std of 0.5. Print the mean, max, min and std of the array.\n",
    "randarray2 = np.random.normal(2, 0.5, 1000)\n",
    "print(\"The mean in the array is: \", randarray2.mean())\n",
    "print(\"The max element in the array is: \", randarray2.max())\n",
    "print(\"The min element in the array is: \", randarray2.min())\n",
    "print(\"The std in the array is: \", randarray2.std())\n",
    "# Create a numpy array consisting of 1000000 random elements from normal distribution with mean of 2 and std of 0.5. Print the mean, max, min and std of the array.\n",
    "randarray3 = np.random.normal(2, 0.5, 1000000)\n",
    "print(\"The mean in the array is: \", randarray3.mean())\n",
    "print(\"The max element in the array is: \", randarray3.max())\n",
    "print(\"The min element in the array is: \", randarray3.min())\n",
    "print(\"The std in the array is: \", randarray3.std())\n"
   ]
  },
  {
   "cell_type": "markdown",
   "metadata": {},
   "source": [
    "# (Bonus question) Looking at the three above examples with 1000, 5000, and 10000 random elements, do you have any observations about mean and std values?\n",
    " The mean and std will be closer to the amount we set which are 2 and 0.5\n",
    "\n",
    "Yes, as the randomly generated values increases in quantity(data):\n",
    "1) the mean gets closer to 2 (supplied or theoretical mean)\n",
    "2) The std deviation also gets closer to 0.5 (supplied or theoretical std)"
   ]
  },
  {
   "cell_type": "markdown",
   "metadata": {},
   "source": []
  }
 ],
 "metadata": {
  "kernelspec": {
   "display_name": "Python 3 (ipykernel)",
   "language": "python",
   "name": "python3"
  },
  "language_info": {
   "codemirror_mode": {
    "name": "ipython",
    "version": 3
   },
   "file_extension": ".py",
   "mimetype": "text/x-python",
   "name": "python",
   "nbconvert_exporter": "python",
   "pygments_lexer": "ipython3",
   "version": "3.11.5"
  }
 },
 "nbformat": 4,
 "nbformat_minor": 4
}
